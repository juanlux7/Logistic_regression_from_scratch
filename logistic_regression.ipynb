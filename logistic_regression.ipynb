{
 "cells": [
  {
   "cell_type": "markdown",
   "metadata": {},
   "source": [
    "# Logistic regression for binary classification problems from scratch"
   ]
  },
  {
   "cell_type": "markdown",
   "metadata": {},
   "source": [
    "### in this notebook, I create a simple logistic regression classifier from scratch, just to show the mathematics behind this Supervised learning algorithm. Of course you can improve this code, by adding OOP, defining methods, avoiding hardcoded values in order to adapt this to a wider range of situations (e.g. no matter the dimensions of the data) etc... But the main purpose of this notebook is to show the process of creating a basic logistic regression model "
   ]
  },
  {
   "cell_type": "code",
   "execution_count": 195,
   "metadata": {},
   "outputs": [],
   "source": [
    "# importing the required packages\n",
    "\n",
    "import numpy as np\n",
    "import pandas as pd\n",
    "import matplotlib.pyplot as plt\n",
    "from sklearn.datasets import load_iris\n",
    "from sklearn.model_selection import train_test_split"
   ]
  },
  {
   "cell_type": "markdown",
   "metadata": {},
   "source": [
    "# First, I load the data from sklearn and do some checking stuff, like the name of the keys, the shape of the data..."
   ]
  },
  {
   "cell_type": "code",
   "execution_count": 217,
   "metadata": {},
   "outputs": [],
   "source": [
    "data = load_iris()"
   ]
  },
  {
   "cell_type": "code",
   "execution_count": 197,
   "metadata": {},
   "outputs": [
    {
     "data": {
      "text/plain": [
       "dict_keys(['data', 'target', 'target_names', 'DESCR', 'feature_names'])"
      ]
     },
     "execution_count": 197,
     "metadata": {},
     "output_type": "execute_result"
    }
   ],
   "source": [
    "data.keys()"
   ]
  },
  {
   "cell_type": "code",
   "execution_count": 198,
   "metadata": {},
   "outputs": [
    {
     "data": {
      "text/plain": [
       "(150, 4)"
      ]
     },
     "execution_count": 198,
     "metadata": {},
     "output_type": "execute_result"
    }
   ],
   "source": [
    "data['data'].shape"
   ]
  },
  {
   "cell_type": "markdown",
   "metadata": {},
   "source": [
    "## This step is very important. I make use of Pandas to create a dataframe only with the desired keys, like the raw data, the target of every row and the features names"
   ]
  },
  {
   "cell_type": "code",
   "execution_count": 221,
   "metadata": {},
   "outputs": [],
   "source": [
    "petal_df = pd.DataFrame(np.c_[data['data'], data['target']], columns=np.append(data['feature_names'], 'target'))"
   ]
  },
  {
   "cell_type": "markdown",
   "metadata": {},
   "source": [
    "### in this problem we try to identity which type of flower we have depending on features like the sepal length, sepal width, petal length and petal width. So this data only have 4 features and 1 output, which represents the class the flower belongs"
   ]
  },
  {
   "cell_type": "code",
   "execution_count": 220,
   "metadata": {},
   "outputs": [
    {
     "data": {
      "text/html": [
       "<div>\n",
       "<style scoped>\n",
       "    .dataframe tbody tr th:only-of-type {\n",
       "        vertical-align: middle;\n",
       "    }\n",
       "\n",
       "    .dataframe tbody tr th {\n",
       "        vertical-align: top;\n",
       "    }\n",
       "\n",
       "    .dataframe thead th {\n",
       "        text-align: right;\n",
       "    }\n",
       "</style>\n",
       "<table border=\"1\" class=\"dataframe\">\n",
       "  <thead>\n",
       "    <tr style=\"text-align: right;\">\n",
       "      <th></th>\n",
       "      <th>sepal length (cm)</th>\n",
       "      <th>sepal width (cm)</th>\n",
       "      <th>petal length (cm)</th>\n",
       "      <th>petal width (cm)</th>\n",
       "      <th>target</th>\n",
       "    </tr>\n",
       "  </thead>\n",
       "  <tbody>\n",
       "    <tr>\n",
       "      <th>0</th>\n",
       "      <td>5.1</td>\n",
       "      <td>3.5</td>\n",
       "      <td>1.4</td>\n",
       "      <td>0.2</td>\n",
       "      <td>0.0</td>\n",
       "    </tr>\n",
       "    <tr>\n",
       "      <th>1</th>\n",
       "      <td>4.9</td>\n",
       "      <td>3.0</td>\n",
       "      <td>1.4</td>\n",
       "      <td>0.2</td>\n",
       "      <td>0.0</td>\n",
       "    </tr>\n",
       "    <tr>\n",
       "      <th>2</th>\n",
       "      <td>4.7</td>\n",
       "      <td>3.2</td>\n",
       "      <td>1.3</td>\n",
       "      <td>0.2</td>\n",
       "      <td>0.0</td>\n",
       "    </tr>\n",
       "    <tr>\n",
       "      <th>3</th>\n",
       "      <td>4.6</td>\n",
       "      <td>3.1</td>\n",
       "      <td>1.5</td>\n",
       "      <td>0.2</td>\n",
       "      <td>0.0</td>\n",
       "    </tr>\n",
       "    <tr>\n",
       "      <th>4</th>\n",
       "      <td>5.0</td>\n",
       "      <td>3.6</td>\n",
       "      <td>1.4</td>\n",
       "      <td>0.2</td>\n",
       "      <td>0.0</td>\n",
       "    </tr>\n",
       "  </tbody>\n",
       "</table>\n",
       "</div>"
      ],
      "text/plain": [
       "   sepal length (cm)  sepal width (cm)  petal length (cm)  petal width (cm)  \\\n",
       "0                5.1               3.5                1.4               0.2   \n",
       "1                4.9               3.0                1.4               0.2   \n",
       "2                4.7               3.2                1.3               0.2   \n",
       "3                4.6               3.1                1.5               0.2   \n",
       "4                5.0               3.6                1.4               0.2   \n",
       "\n",
       "   target  \n",
       "0     0.0  \n",
       "1     0.0  \n",
       "2     0.0  \n",
       "3     0.0  \n",
       "4     0.0  "
      ]
     },
     "execution_count": 220,
     "metadata": {},
     "output_type": "execute_result"
    }
   ],
   "source": [
    "petal_df.head(5)"
   ]
  },
  {
   "cell_type": "markdown",
   "metadata": {},
   "source": [
    "## in the next step I do some slicing to get rid of the last 50 rows. Originally, This is a multiclass problem (with 3 different classes) and in order to convert this into a binary classification problem I got rid of one of the classes (class 2, from 101-150) - so now I have only two possible classes and a binary problem"
   ]
  },
  {
   "cell_type": "code",
   "execution_count": 200,
   "metadata": {},
   "outputs": [],
   "source": [
    "petal_df = petal_df[0:100]"
   ]
  },
  {
   "cell_type": "markdown",
   "metadata": {},
   "source": [
    "### After that I define X and y, in this case X corresponds to all the independent variables while y is the dependent variable (target)"
   ]
  },
  {
   "cell_type": "code",
   "execution_count": 201,
   "metadata": {},
   "outputs": [],
   "source": [
    "X = petal_df.iloc[:, :-1].values\n",
    "y = petal_df.iloc[:, -1].values"
   ]
  },
  {
   "cell_type": "markdown",
   "metadata": {},
   "source": [
    "### then I divide the dataset into training and test sets with the help of sklearn"
   ]
  },
  {
   "cell_type": "code",
   "execution_count": 202,
   "metadata": {},
   "outputs": [],
   "source": [
    "X_train, X_test, y_train, y_test = train_test_split(X, y, test_size=0.10, random_state=42)"
   ]
  },
  {
   "cell_type": "markdown",
   "metadata": {},
   "source": [
    "### One important step before going any further is to declare all the features individually so we can make use of them in the following equation"
   ]
  },
  {
   "cell_type": "code",
   "execution_count": 203,
   "metadata": {},
   "outputs": [],
   "source": [
    "x1 = X_train[:,0]\n",
    "x2 = X_train[:,1]\n",
    "x3 = X_train[:,2]\n",
    "x4 = X_train[:,3]"
   ]
  },
  {
   "cell_type": "code",
   "execution_count": 204,
   "metadata": {},
   "outputs": [],
   "source": [
    "x1 = x1.reshape(90,1)\n",
    "x2 = x2.reshape(90,1)\n",
    "x3 = x3.reshape(90,1)\n",
    "x4 = x4.reshape(90,1)"
   ]
  },
  {
   "cell_type": "code",
   "execution_count": 205,
   "metadata": {},
   "outputs": [],
   "source": [
    "y_train = y_train.reshape(90,1)"
   ]
  },
  {
   "cell_type": "markdown",
   "metadata": {},
   "source": [
    "### When performing logistic regression, is a required step to define a sigmoid function in order to squeeze all the values beetwen 0 and 1. If we wouldn't do this, then we might get values above 1 and below 0"
   ]
  },
  {
   "cell_type": "code",
   "execution_count": 206,
   "metadata": {},
   "outputs": [],
   "source": [
    "def sigmoid(x):\n",
    "    return (1 / (1 + np.exp(-x)))"
   ]
  },
  {
   "cell_type": "markdown",
   "metadata": {},
   "source": [
    "### bellow here we have some terms like m, which is the length of the train dataset, the learning rate, a required parameter to reduce our cost function by sustracting tiny steps to the cost function and partial derivatives, and finally all the theta parameters depending on the dimension of our data (in this case we have 4 dimensions corresponding to 4 features), each of them initialized with 0"
   ]
  },
  {
   "cell_type": "code",
   "execution_count": 207,
   "metadata": {},
   "outputs": [],
   "source": [
    "m = len(X_train)\n",
    "\n",
    "learning_rate = 0.01\n",
    "\n",
    "theta0 = np.zeros((m,1))\n",
    "theta1 = np.zeros((m,1))\n",
    "theta2 = np.zeros((m,1))\n",
    "theta3 = np.zeros((m,1))\n",
    "theta4 = np.zeros((m,1))\n",
    "\n"
   ]
  },
  {
   "cell_type": "markdown",
   "metadata": {},
   "source": [
    "## Bellow this text, I have appied Batch gradient descent (GD with all the data available): first I declare the number of iterations (epochs) this loop is going to take (10000) in order to reduce our cost function. I am going to explain all the steps that this proccess takes to converge in \n",
    "\n",
    "### - 1st step: I define the linear equation for this problem, which is: theta0 + theta(i) * feature(i)... you can find this equation in the internet easily\n",
    "\n",
    "### - 2nd step: we pass that value though a sigmoid function to get an output between 0 and 1 and work with consistent and probability values\n",
    "\n",
    "### - 3rd Step: We define our cost function by applying the cost function for logistic regression. This optimized equation was obtained from professor Andrew NG, Stanford University, and test the hypothesis (our prediction) with the true label (y_train), the dot product between matrices.\n",
    "\n",
    "### - 4th Step: keep in mind in the first iterations, this cost function will be huge, so we need to tweak some parameters to reduce this cost error. And because we can't change our data, the only possible way to reduce the error is by adjusting the theta arguments. For that, we need to take the partial derivatives of the cost function with respect to each theta parameter we have (if we have 4 dimensions then 4 theta + theta0), so we can obtain a smaller error by derivating the error. This equation can also be found in the internet very easily\n",
    "\n",
    "### - 5th Step: in the next step, as Andrew NG suggests, we need to update the theta parameters by substracting them a tiny number, in this case, the learning rate * each individual gradient, so in each iteration we'll have an updated value for these theta parameters in the right direction"
   ]
  },
  {
   "cell_type": "code",
   "execution_count": 216,
   "metadata": {},
   "outputs": [
    {
     "ename": "ValueError",
     "evalue": "operands could not be broadcast together with shapes (10,1) (90,1) ",
     "output_type": "error",
     "traceback": [
      "\u001b[0;31m---------------------------------------------------------------------------\u001b[0m",
      "\u001b[0;31mValueError\u001b[0m                                Traceback (most recent call last)",
      "\u001b[0;32m<ipython-input-216-c9bbd4f4a344>\u001b[0m in \u001b[0;36m<module>\u001b[0;34m()\u001b[0m\n\u001b[1;32m      7\u001b[0m \u001b[0;34m\u001b[0m\u001b[0m\n\u001b[1;32m      8\u001b[0m     \u001b[0;31m#linear equation formula\u001b[0m\u001b[0;34m\u001b[0m\u001b[0;34m\u001b[0m\u001b[0m\n\u001b[0;32m----> 9\u001b[0;31m     \u001b[0mlinear_equation\u001b[0m \u001b[0;34m=\u001b[0m \u001b[0mtheta0\u001b[0m \u001b[0;34m+\u001b[0m \u001b[0mtheta1\u001b[0m \u001b[0;34m*\u001b[0m \u001b[0mx1\u001b[0m \u001b[0;34m+\u001b[0m \u001b[0mtheta2\u001b[0m \u001b[0;34m*\u001b[0m \u001b[0mx2\u001b[0m \u001b[0;34m+\u001b[0m \u001b[0mtheta3\u001b[0m \u001b[0;34m*\u001b[0m \u001b[0mx3\u001b[0m \u001b[0;34m+\u001b[0m \u001b[0mtheta4\u001b[0m \u001b[0;34m*\u001b[0m \u001b[0mx4\u001b[0m\u001b[0;34m\u001b[0m\u001b[0m\n\u001b[0m\u001b[1;32m     10\u001b[0m \u001b[0;34m\u001b[0m\u001b[0m\n\u001b[1;32m     11\u001b[0m     \u001b[0;31m#sigmoid function\u001b[0m\u001b[0;34m\u001b[0m\u001b[0;34m\u001b[0m\u001b[0m\n",
      "\u001b[0;31mValueError\u001b[0m: operands could not be broadcast together with shapes (10,1) (90,1) "
     ]
    }
   ],
   "source": [
    "# in Object Oriented programming, this could be a method called fit, similar to what sklearn does\n",
    "\n",
    "epochs = 0\n",
    "cost_outputs = []\n",
    "\n",
    "while(epochs < 6000):\n",
    "    \n",
    "    #linear equation formula\n",
    "    linear_equation = theta0 + theta1 * x1 + theta2 * x2 + theta3 * x3 + theta4 * x4\n",
    "    \n",
    "    #sigmoid function\n",
    "    predictions = sigmoid(linear_equation)\n",
    "    \n",
    "    # I compute the cost function value just to plot it and see if this is decreasing.\n",
    "    cost_function = (- np.dot(np.transpose(y_train),np.log(predictions)) - np.dot(np.transpose(1-y_train),np.log(1-predictions)))/m\n",
    "    \n",
    "    \n",
    "    theta_0_partial_der = np.dot(np.ones((1,m)),predictions-y_train)/m\n",
    "    theta_1_partial_der = np.dot(np.transpose(x1),predictions-y_train)/m\n",
    "    theta_2_partial_der = np.dot(np.transpose(x2),predictions-y_train)/m\n",
    "    theta_3_partial_der = np.dot(np.transpose(x3),predictions-y_train)/m\n",
    "    theta_4_partial_der = np.dot(np.transpose(x4),predictions-y_train)/m\n",
    "    \n",
    "    # bellow here we update each theta value before ending the iteration so we can start\n",
    "    # the next one with a different value for each theta argument.\n",
    "    \n",
    "    theta0 = theta0 - learning_rate * theta_0_partial_der\n",
    "    theta1 = theta1 - learning_rate * theta_1_partial_der\n",
    "    theta2 = theta2 - learning_rate * theta_2_partial_der\n",
    "    theta3 = theta3 - learning_rate * theta_3_partial_der\n",
    "    theta4 = theta4 - learning_rate * theta_4_partial_der\n",
    "    \n",
    "    cost_outputs.append(cost_function)\n",
    "    epochs += 1"
   ]
  },
  {
   "cell_type": "code",
   "execution_count": 211,
   "metadata": {},
   "outputs": [
    {
     "data": {
      "image/png": "[encoded data removed]",
      "text/plain": [
       "<Figure size 432x288 with 1 Axes>"
      ]
     },
     "metadata": {
      "needs_background": "light"
     },
     "output_type": "display_data"
    }
   ],
   "source": [
    "cost_func = np.array(cost_outputs)\n",
    "cost_func = cost_func.reshape(6000,1)\n",
    "plt.plot(range(len(cost_func)),cost_func)\n",
    "plt.title(\"cost function\")\n",
    "plt.show()"
   ]
  },
  {
   "cell_type": "code",
   "execution_count": 215,
   "metadata": {},
   "outputs": [
    {
     "name": "stdout",
     "output_type": "stream",
     "text": [
      "1.0\n"
     ]
    }
   ],
   "source": [
    "# in OOP, this could be a method called predict, that returns an array of predited values,\n",
    "# similar to what sklearn does\n",
    "\n",
    "from sklearn.metrics import accuracy_score\n",
    "\n",
    "test_x_1 = X_test[:,0]\n",
    "test_x_2 = X_test[:,1]\n",
    "test_x_3 = X_test[:,2]\n",
    "test_x_4 = X_test[:,3]\n",
    "\n",
    "test_x_1 = np.array(test_x_1)\n",
    "test_x_2 = np.array(test_x_2)\n",
    "test_x_3 = np.array(test_x_3)\n",
    "test_x_4 = np.array(test_x_4)\n",
    "\n",
    "test_x_1 = test_x_1.reshape(10,1)\n",
    "test_x_2 = test_x_2.reshape(10,1)\n",
    "test_x_3 = test_x_3.reshape(10,1)\n",
    "test_x_4 = test_x_4.reshape(10,1)\n",
    "\n",
    "index = list(range(10,90))    \n",
    "\n",
    "theta0 = theta0[:10]\n",
    "theta1 = theta1[:10]\n",
    "theta2 = theta2[:10]\n",
    "theta3 = theta3[:10]\n",
    "theta4 = theta4[:10]\n",
    "\n",
    "theta0 = theta0.reshape(10,1)\n",
    "theta1 = theta1.reshape(10,1)\n",
    "theta2 = theta2.reshape(10,1)\n",
    "theta3 = theta3.reshape(10,1)\n",
    "theta4 = theta4.reshape(10,1)\n",
    "\n",
    "linear_eq = theta0 + theta1 * test_x_1 + theta2 * test_x_2 + theta3 * test_x_3 + theta4 * test_x_4\n",
    "predictions = sigmoid(linear_eq)\n",
    "\n",
    "array_predictions =[]\n",
    "\n",
    "for prediction in predictions:\n",
    "    if(prediction >= 0.5):\n",
    "        array_predictions.append(1)\n",
    "    else:\n",
    "        array_predictions.append(0)\n",
    "\n",
    "print(accuracy_score(y_test, array_predictions))"
   ]
  },
  {
   "cell_type": "code",
   "execution_count": null,
   "metadata": {},
   "outputs": [],
   "source": []
  }
 ],
 "metadata": {
  "kernelspec": {
   "display_name": "Python 3",
   "language": "python",
   "name": "python3"
  },
  "language_info": {
   "codemirror_mode": {
    "name": "ipython",
    "version": 3
   },
   "file_extension": ".py",
   "mimetype": "text/x-python",
   "name": "python",
   "nbconvert_exporter": "python",
   "pygments_lexer": "ipython3",
   "version": "3.7.0"
  }
 },
 "nbformat": 4,
 "nbformat_minor": 2
}
